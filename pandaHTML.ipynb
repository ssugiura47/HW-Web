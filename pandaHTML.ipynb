{
 "cells": [
  {
   "cell_type": "code",
   "execution_count": 10,
   "metadata": {},
   "outputs": [],
   "source": [
    "import pandas as pd"
   ]
  },
  {
   "cell_type": "code",
   "execution_count": 15,
   "metadata": {},
   "outputs": [
    {
     "data": {
      "text/html": [
       "<div>\n",
       "<style scoped>\n",
       "    .dataframe tbody tr th:only-of-type {\n",
       "        vertical-align: middle;\n",
       "    }\n",
       "\n",
       "    .dataframe tbody tr th {\n",
       "        vertical-align: top;\n",
       "    }\n",
       "\n",
       "    .dataframe thead th {\n",
       "        text-align: right;\n",
       "    }\n",
       "</style>\n",
       "<table border=\"1\" class=\"dataframe\">\n",
       "  <thead>\n",
       "    <tr style=\"text-align: right;\">\n",
       "      <th></th>\n",
       "      <th>State</th>\n",
       "      <th>Population</th>\n",
       "      <th>Median Household Income Est.</th>\n",
       "      <th>Cases</th>\n",
       "      <th>Deaths</th>\n",
       "      <th>Mortality Rate</th>\n",
       "      <th>Land Area (square miles)</th>\n",
       "      <th>Population Density (people/square mile)</th>\n",
       "      <th>Lat</th>\n",
       "      <th>Lng</th>\n",
       "    </tr>\n",
       "  </thead>\n",
       "  <tbody>\n",
       "    <tr>\n",
       "      <th>0</th>\n",
       "      <td>Alabama</td>\n",
       "      <td>4903185</td>\n",
       "      <td>49881</td>\n",
       "      <td>110361</td>\n",
       "      <td>1936</td>\n",
       "      <td>1.754243</td>\n",
       "      <td>50744</td>\n",
       "      <td>96.625907</td>\n",
       "      <td>32.318231</td>\n",
       "      <td>-86.902298</td>\n",
       "    </tr>\n",
       "    <tr>\n",
       "      <th>1</th>\n",
       "      <td>Alaska</td>\n",
       "      <td>731545</td>\n",
       "      <td>74912</td>\n",
       "      <td>5175</td>\n",
       "      <td>27</td>\n",
       "      <td>0.521739</td>\n",
       "      <td>571951</td>\n",
       "      <td>1.279034</td>\n",
       "      <td>64.200841</td>\n",
       "      <td>-149.493673</td>\n",
       "    </tr>\n",
       "    <tr>\n",
       "      <th>2</th>\n",
       "      <td>Arizona</td>\n",
       "      <td>7278717</td>\n",
       "      <td>59079</td>\n",
       "      <td>194931</td>\n",
       "      <td>4535</td>\n",
       "      <td>2.326464</td>\n",
       "      <td>113635</td>\n",
       "      <td>64.053478</td>\n",
       "      <td>34.048928</td>\n",
       "      <td>-111.093731</td>\n",
       "    </tr>\n",
       "    <tr>\n",
       "      <th>3</th>\n",
       "      <td>Arkansas</td>\n",
       "      <td>3017804</td>\n",
       "      <td>47094</td>\n",
       "      <td>53487</td>\n",
       "      <td>619</td>\n",
       "      <td>1.157291</td>\n",
       "      <td>52068</td>\n",
       "      <td>57.958900</td>\n",
       "      <td>35.201050</td>\n",
       "      <td>-91.831833</td>\n",
       "    </tr>\n",
       "    <tr>\n",
       "      <th>4</th>\n",
       "      <td>California</td>\n",
       "      <td>39512223</td>\n",
       "      <td>75250</td>\n",
       "      <td>640499</td>\n",
       "      <td>11523</td>\n",
       "      <td>1.799066</td>\n",
       "      <td>155959</td>\n",
       "      <td>253.350066</td>\n",
       "      <td>36.778261</td>\n",
       "      <td>-119.417932</td>\n",
       "    </tr>\n",
       "  </tbody>\n",
       "</table>\n",
       "</div>"
      ],
      "text/plain": [
       "        State  Population  Median Household Income Est.   Cases  Deaths  \\\n",
       "0     Alabama     4903185                         49881  110361    1936   \n",
       "1      Alaska      731545                         74912    5175      27   \n",
       "2     Arizona     7278717                         59079  194931    4535   \n",
       "3    Arkansas     3017804                         47094   53487     619   \n",
       "4  California    39512223                         75250  640499   11523   \n",
       "\n",
       "   Mortality Rate  Land Area (square miles)  \\\n",
       "0        1.754243                     50744   \n",
       "1        0.521739                    571951   \n",
       "2        2.326464                    113635   \n",
       "3        1.157291                     52068   \n",
       "4        1.799066                    155959   \n",
       "\n",
       "   Population Density (people/square mile)        Lat         Lng  \n",
       "0                                96.625907  32.318231  -86.902298  \n",
       "1                                 1.279034  64.200841 -149.493673  \n",
       "2                                64.053478  34.048928 -111.093731  \n",
       "3                                57.958900  35.201050  -91.831833  \n",
       "4                               253.350066  36.778261 -119.417932  "
      ]
     },
     "execution_count": 15,
     "metadata": {},
     "output_type": "execute_result"
    }
   ],
   "source": [
    "nifty = pd.read_csv('complete_dataset.csv')\n",
    "nifty.head()"
   ]
  },
  {
   "cell_type": "code",
   "execution_count": 16,
   "metadata": {},
   "outputs": [
    {
     "data": {
      "text/plain": [
       "'<table border=\"1\" class=\"dataframe\">\\n  <thead>\\n    <tr style=\"text-align: right;\">\\n      <th></th>\\n      <th>State</th>\\n      <th>Population</th>\\n      <th>Median Household Income Est.</th>\\n      <th>Cases</th>\\n      <th>Deaths</th>\\n      <th>Mortality Rate</th>\\n      <th>Land Area (square miles)</th>\\n      <th>Population Density (people/square mile)</th>\\n      <th>Lat</th>\\n      <th>Lng</th>\\n    </tr>\\n  </thead>\\n  <tbody>\\n    <tr>\\n      <th>0</th>\\n      <td>Alabama</td>\\n      <td>4903185</td>\\n      <td>49881</td>\\n      <td>110361</td>\\n      <td>1936</td>\\n      <td>1.754243</td>\\n      <td>50744</td>\\n      <td>96.625907</td>\\n      <td>32.318231</td>\\n      <td>-86.902298</td>\\n    </tr>\\n    <tr>\\n      <th>1</th>\\n      <td>Alaska</td>\\n      <td>731545</td>\\n      <td>74912</td>\\n      <td>5175</td>\\n      <td>27</td>\\n      <td>0.521739</td>\\n      <td>571951</td>\\n      <td>1.279034</td>\\n      <td>64.200841</td>\\n      <td>-149.493673</td>\\n    </tr>\\n    <tr>\\n      <th>2</th>\\n      <td>Arizona</td>\\n      <td>7278717</td>\\n      <td>59079</td>\\n      <td>194931</td>\\n      <td>4535</td>\\n      <td>2.326464</td>\\n      <td>113635</td>\\n      <td>64.053478</td>\\n      <td>34.048928</td>\\n      <td>-111.093731</td>\\n    </tr>\\n    <tr>\\n      <th>3</th>\\n      <td>Arkansas</td>\\n      <td>3017804</td>\\n      <td>47094</td>\\n      <td>53487</td>\\n      <td>619</td>\\n      <td>1.157291</td>\\n      <td>52068</td>\\n      <td>57.958900</td>\\n      <td>35.201050</td>\\n      <td>-91.831833</td>\\n    </tr>\\n    <tr>\\n      <th>4</th>\\n      <td>California</td>\\n      <td>39512223</td>\\n      <td>75250</td>\\n      <td>640499</td>\\n      <td>11523</td>\\n      <td>1.799066</td>\\n      <td>155959</td>\\n      <td>253.350066</td>\\n      <td>36.778261</td>\\n      <td>-119.417932</td>\\n    </tr>\\n    <tr>\\n      <th>5</th>\\n      <td>Colorado</td>\\n      <td>5758736</td>\\n      <td>71949</td>\\n      <td>53674</td>\\n      <td>1906</td>\\n      <td>3.551068</td>\\n      <td>103718</td>\\n      <td>55.523014</td>\\n      <td>39.550051</td>\\n      <td>-105.782067</td>\\n    </tr>\\n    <tr>\\n      <th>6</th>\\n      <td>Connecticut</td>\\n      <td>3565287</td>\\n      <td>76366</td>\\n      <td>51267</td>\\n      <td>4456</td>\\n      <td>8.691751</td>\\n      <td>4845</td>\\n      <td>735.869350</td>\\n      <td>41.603221</td>\\n      <td>-73.087749</td>\\n    </tr>\\n    <tr>\\n      <th>7</th>\\n      <td>Delaware</td>\\n      <td>973764</td>\\n      <td>65467</td>\\n      <td>16593</td>\\n      <td>593</td>\\n      <td>3.573796</td>\\n      <td>1954</td>\\n      <td>498.343910</td>\\n      <td>38.910832</td>\\n      <td>-75.527670</td>\\n    </tr>\\n    <tr>\\n      <th>8</th>\\n      <td>Florida</td>\\n      <td>21477737</td>\\n      <td>55433</td>\\n      <td>579924</td>\\n      <td>9757</td>\\n      <td>1.682462</td>\\n      <td>53927</td>\\n      <td>398.274278</td>\\n      <td>27.664827</td>\\n      <td>-81.515754</td>\\n    </tr>\\n    <tr>\\n      <th>9</th>\\n      <td>Georgia</td>\\n      <td>10617423</td>\\n      <td>58634</td>\\n      <td>224681</td>\\n      <td>4691</td>\\n      <td>2.087849</td>\\n      <td>57906</td>\\n      <td>183.356181</td>\\n      <td>32.165622</td>\\n      <td>-82.900075</td>\\n    </tr>\\n    <tr>\\n      <th>10</th>\\n      <td>Hawaii</td>\\n      <td>1415872</td>\\n      <td>80527</td>\\n      <td>5326</td>\\n      <td>40</td>\\n      <td>0.751033</td>\\n      <td>6423</td>\\n      <td>220.437802</td>\\n      <td>19.896766</td>\\n      <td>-155.582782</td>\\n    </tr>\\n    <tr>\\n      <th>11</th>\\n      <td>Idaho</td>\\n      <td>1787065</td>\\n      <td>55524</td>\\n      <td>28486</td>\\n      <td>283</td>\\n      <td>0.993470</td>\\n      <td>82747</td>\\n      <td>21.596735</td>\\n      <td>44.068202</td>\\n      <td>-114.742041</td>\\n    </tr>\\n    <tr>\\n      <th>12</th>\\n      <td>Illinois</td>\\n      <td>12671821</td>\\n      <td>65063</td>\\n      <td>211806</td>\\n      <td>8017</td>\\n      <td>3.785067</td>\\n      <td>55584</td>\\n      <td>227.976054</td>\\n      <td>40.633125</td>\\n      <td>-89.398528</td>\\n    </tr>\\n    <tr>\\n      <th>13</th>\\n      <td>Indiana</td>\\n      <td>6732219</td>\\n      <td>55725</td>\\n      <td>83799</td>\\n      <td>3165</td>\\n      <td>3.776895</td>\\n      <td>35867</td>\\n      <td>187.699529</td>\\n      <td>40.267194</td>\\n      <td>-86.134902</td>\\n    </tr>\\n    <tr>\\n      <th>14</th>\\n      <td>Iowa</td>\\n      <td>3155070</td>\\n      <td>60071</td>\\n      <td>53201</td>\\n      <td>1002</td>\\n      <td>1.883423</td>\\n      <td>55869</td>\\n      <td>56.472641</td>\\n      <td>41.878003</td>\\n      <td>-93.097702</td>\\n    </tr>\\n    <tr>\\n      <th>15</th>\\n      <td>Kansas</td>\\n      <td>2913314</td>\\n      <td>58150</td>\\n      <td>35632</td>\\n      <td>415</td>\\n      <td>1.164683</td>\\n      <td>81815</td>\\n      <td>35.608556</td>\\n      <td>39.011902</td>\\n      <td>-98.484246</td>\\n    </tr>\\n    <tr>\\n      <th>16</th>\\n      <td>Kentucky</td>\\n      <td>4467673</td>\\n      <td>50189</td>\\n      <td>42270</td>\\n      <td>859</td>\\n      <td>2.032174</td>\\n      <td>39728</td>\\n      <td>112.456529</td>\\n      <td>37.839333</td>\\n      <td>-84.270018</td>\\n    </tr>\\n    <tr>\\n      <th>17</th>\\n      <td>Louisiana</td>\\n      <td>4648794</td>\\n      <td>48021</td>\\n      <td>139248</td>\\n      <td>4554</td>\\n      <td>3.270424</td>\\n      <td>43562</td>\\n      <td>106.716726</td>\\n      <td>30.984298</td>\\n      <td>-91.962333</td>\\n    </tr>\\n    <tr>\\n      <th>18</th>\\n      <td>Maine</td>\\n      <td>1344212</td>\\n      <td>55579</td>\\n      <td>4213</td>\\n      <td>127</td>\\n      <td>3.014479</td>\\n      <td>30862</td>\\n      <td>43.555570</td>\\n      <td>45.253783</td>\\n      <td>-69.445469</td>\\n    </tr>\\n    <tr>\\n      <th>19</th>\\n      <td>Maryland</td>\\n      <td>6045680</td>\\n      <td>83076</td>\\n      <td>101780</td>\\n      <td>3650</td>\\n      <td>3.586166</td>\\n      <td>9774</td>\\n      <td>618.547166</td>\\n      <td>39.045755</td>\\n      <td>-76.641271</td>\\n    </tr>\\n    <tr>\\n      <th>20</th>\\n      <td>Massachusetts</td>\\n      <td>6892503</td>\\n      <td>79817</td>\\n      <td>124063</td>\\n      <td>8848</td>\\n      <td>7.131860</td>\\n      <td>7840</td>\\n      <td>879.145791</td>\\n      <td>42.407211</td>\\n      <td>-71.382437</td>\\n    </tr>\\n    <tr>\\n      <th>21</th>\\n      <td>Michigan</td>\\n      <td>9986857</td>\\n      <td>56640</td>\\n      <td>103527</td>\\n      <td>6607</td>\\n      <td>6.381910</td>\\n      <td>56804</td>\\n      <td>175.812566</td>\\n      <td>44.314844</td>\\n      <td>-85.602364</td>\\n    </tr>\\n    <tr>\\n      <th>22</th>\\n      <td>Minnesota</td>\\n      <td>5639632</td>\\n      <td>70295</td>\\n      <td>66107</td>\\n      <td>1767</td>\\n      <td>2.672939</td>\\n      <td>79610</td>\\n      <td>70.840749</td>\\n      <td>46.729553</td>\\n      <td>-94.685900</td>\\n    </tr>\\n    <tr>\\n      <th>23</th>\\n      <td>Mississippi</td>\\n      <td>2976149</td>\\n      <td>44740</td>\\n      <td>73207</td>\\n      <td>2128</td>\\n      <td>2.906826</td>\\n      <td>46907</td>\\n      <td>63.447865</td>\\n      <td>32.354668</td>\\n      <td>-89.398528</td>\\n    </tr>\\n    <tr>\\n      <th>24</th>\\n      <td>Missouri</td>\\n      <td>6137428</td>\\n      <td>54412</td>\\n      <td>70700</td>\\n      <td>1477</td>\\n      <td>2.089109</td>\\n      <td>68886</td>\\n      <td>89.095433</td>\\n      <td>37.964253</td>\\n      <td>-91.831833</td>\\n    </tr>\\n    <tr>\\n      <th>25</th>\\n      <td>Montana</td>\\n      <td>1068778</td>\\n      <td>55248</td>\\n      <td>5867</td>\\n      <td>84</td>\\n      <td>1.431737</td>\\n      <td>145552</td>\\n      <td>7.342929</td>\\n      <td>46.879682</td>\\n      <td>-110.362566</td>\\n    </tr>\\n    <tr>\\n      <th>26</th>\\n      <td>Nebraska</td>\\n      <td>1934408</td>\\n      <td>59724</td>\\n      <td>30825</td>\\n      <td>370</td>\\n      <td>1.200324</td>\\n      <td>76872</td>\\n      <td>25.164013</td>\\n      <td>41.492537</td>\\n      <td>-99.901813</td>\\n    </tr>\\n    <tr>\\n      <th>27</th>\\n      <td>Nevada</td>\\n      <td>3080156</td>\\n      <td>58740</td>\\n      <td>62752</td>\\n      <td>1102</td>\\n      <td>1.756119</td>\\n      <td>109826</td>\\n      <td>28.045782</td>\\n      <td>38.802610</td>\\n      <td>-116.419389</td>\\n    </tr>\\n    <tr>\\n      <th>28</th>\\n      <td>New Hampshire</td>\\n      <td>1359711</td>\\n      <td>75322</td>\\n      <td>7017</td>\\n      <td>424</td>\\n      <td>6.042468</td>\\n      <td>8968</td>\\n      <td>151.618087</td>\\n      <td>43.193852</td>\\n      <td>-71.572395</td>\\n    </tr>\\n    <tr>\\n      <th>29</th>\\n      <td>New Jersey</td>\\n      <td>8882190</td>\\n      <td>81777</td>\\n      <td>189937</td>\\n      <td>15925</td>\\n      <td>8.384359</td>\\n      <td>7417</td>\\n      <td>1197.544829</td>\\n      <td>40.058324</td>\\n      <td>-74.405661</td>\\n    </tr>\\n    <tr>\\n      <th>30</th>\\n      <td>New Mexico</td>\\n      <td>2096829</td>\\n      <td>47405</td>\\n      <td>23579</td>\\n      <td>723</td>\\n      <td>3.066288</td>\\n      <td>121356</td>\\n      <td>17.278330</td>\\n      <td>34.519940</td>\\n      <td>-105.870090</td>\\n    </tr>\\n    <tr>\\n      <th>31</th>\\n      <td>New York</td>\\n      <td>19453561</td>\\n      <td>67648</td>\\n      <td>431298</td>\\n      <td>32446</td>\\n      <td>7.522873</td>\\n      <td>47214</td>\\n      <td>412.029504</td>\\n      <td>40.712775</td>\\n      <td>-74.005973</td>\\n    </tr>\\n    <tr>\\n      <th>32</th>\\n      <td>North Carolina</td>\\n      <td>10488084</td>\\n      <td>53922</td>\\n      <td>147141</td>\\n      <td>2425</td>\\n      <td>1.648079</td>\\n      <td>48711</td>\\n      <td>215.312435</td>\\n      <td>35.759573</td>\\n      <td>-79.019300</td>\\n    </tr>\\n    <tr>\\n      <th>33</th>\\n      <td>North Dakota</td>\\n      <td>762062</td>\\n      <td>65250</td>\\n      <td>8786</td>\\n      <td>132</td>\\n      <td>1.502390</td>\\n      <td>68976</td>\\n      <td>11.048220</td>\\n      <td>47.551493</td>\\n      <td>-101.002012</td>\\n    </tr>\\n    <tr>\\n      <th>34</th>\\n      <td>Ohio</td>\\n      <td>11689100</td>\\n      <td>56155</td>\\n      <td>109923</td>\\n      <td>3871</td>\\n      <td>3.521556</td>\\n      <td>40948</td>\\n      <td>285.462049</td>\\n      <td>40.417287</td>\\n      <td>-82.907123</td>\\n    </tr>\\n    <tr>\\n      <th>35</th>\\n      <td>Oklahoma</td>\\n      <td>3956971</td>\\n      <td>51914</td>\\n      <td>49326</td>\\n      <td>682</td>\\n      <td>1.382638</td>\\n      <td>68667</td>\\n      <td>57.625512</td>\\n      <td>35.467560</td>\\n      <td>-97.516428</td>\\n    </tr>\\n    <tr>\\n      <th>36</th>\\n      <td>Oregon</td>\\n      <td>4217737</td>\\n      <td>63168</td>\\n      <td>23685</td>\\n      <td>399</td>\\n      <td>1.684611</td>\\n      <td>95997</td>\\n      <td>43.936133</td>\\n      <td>43.804133</td>\\n      <td>-120.554201</td>\\n    </tr>\\n    <tr>\\n      <th>37</th>\\n      <td>Pennsylvania</td>\\n      <td>12801989</td>\\n      <td>60891</td>\\n      <td>130286</td>\\n      <td>7561</td>\\n      <td>5.803386</td>\\n      <td>44817</td>\\n      <td>285.650289</td>\\n      <td>41.203322</td>\\n      <td>-77.194525</td>\\n    </tr>\\n    <tr>\\n      <th>38</th>\\n      <td>Rhode Island</td>\\n      <td>1059361</td>\\n      <td>63787</td>\\n      <td>20692</td>\\n      <td>1024</td>\\n      <td>4.948772</td>\\n      <td>1045</td>\\n      <td>1013.742584</td>\\n      <td>41.580095</td>\\n      <td>-71.477429</td>\\n    </tr>\\n    <tr>\\n      <th>39</th>\\n      <td>South Carolina</td>\\n      <td>5148714</td>\\n      <td>52449</td>\\n      <td>107672</td>\\n      <td>2343</td>\\n      <td>2.176053</td>\\n      <td>30109</td>\\n      <td>171.002491</td>\\n      <td>33.836081</td>\\n      <td>-81.163725</td>\\n    </tr>\\n    <tr>\\n      <th>40</th>\\n      <td>South Dakota</td>\\n      <td>884659</td>\\n      <td>57041</td>\\n      <td>10443</td>\\n      <td>154</td>\\n      <td>1.474672</td>\\n      <td>75885</td>\\n      <td>11.657890</td>\\n      <td>43.969515</td>\\n      <td>-99.901813</td>\\n    </tr>\\n    <tr>\\n      <th>41</th>\\n      <td>Tennessee</td>\\n      <td>6829174</td>\\n      <td>52366</td>\\n      <td>132796</td>\\n      <td>1410</td>\\n      <td>1.061779</td>\\n      <td>41217</td>\\n      <td>165.688284</td>\\n      <td>35.517491</td>\\n      <td>-86.580447</td>\\n    </tr>\\n    <tr>\\n      <th>42</th>\\n      <td>Texas</td>\\n      <td>28995881</td>\\n      <td>60632</td>\\n      <td>577220</td>\\n      <td>10798</td>\\n      <td>1.870691</td>\\n      <td>261797</td>\\n      <td>110.757117</td>\\n      <td>31.968599</td>\\n      <td>-99.901813</td>\\n    </tr>\\n    <tr>\\n      <th>43</th>\\n      <td>Utah</td>\\n      <td>3205958</td>\\n      <td>71381</td>\\n      <td>47285</td>\\n      <td>372</td>\\n      <td>0.786719</td>\\n      <td>82144</td>\\n      <td>39.028511</td>\\n      <td>39.320980</td>\\n      <td>-111.093731</td>\\n    </tr>\\n    <tr>\\n      <th>44</th>\\n      <td>Vermont</td>\\n      <td>623989</td>\\n      <td>60917</td>\\n      <td>1530</td>\\n      <td>58</td>\\n      <td>3.790850</td>\\n      <td>9250</td>\\n      <td>67.458270</td>\\n      <td>44.558803</td>\\n      <td>-72.577841</td>\\n    </tr>\\n    <tr>\\n      <th>45</th>\\n      <td>Virginia</td>\\n      <td>8535519</td>\\n      <td>72600</td>\\n      <td>108282</td>\\n      <td>2396</td>\\n      <td>2.212741</td>\\n      <td>39594</td>\\n      <td>215.576072</td>\\n      <td>37.431573</td>\\n      <td>-78.656894</td>\\n    </tr>\\n    <tr>\\n      <th>46</th>\\n      <td>Washington</td>\\n      <td>7614893</td>\\n      <td>74023</td>\\n      <td>71033</td>\\n      <td>1896</td>\\n      <td>2.669182</td>\\n      <td>66544</td>\\n      <td>114.433953</td>\\n      <td>47.751074</td>\\n      <td>-120.740139</td>\\n    </tr>\\n    <tr>\\n      <th>47</th>\\n      <td>West Virginia</td>\\n      <td>1792147</td>\\n      <td>44038</td>\\n      <td>8731</td>\\n      <td>164</td>\\n      <td>1.878364</td>\\n      <td>24078</td>\\n      <td>74.430891</td>\\n      <td>38.597626</td>\\n      <td>-80.454903</td>\\n    </tr>\\n    <tr>\\n      <th>48</th>\\n      <td>Wisconsin</td>\\n      <td>5822434</td>\\n      <td>60779</td>\\n      <td>71517</td>\\n      <td>1063</td>\\n      <td>1.486360</td>\\n      <td>54310</td>\\n      <td>107.207402</td>\\n      <td>43.784440</td>\\n      <td>-88.787868</td>\\n    </tr>\\n    <tr>\\n      <th>49</th>\\n      <td>Wyoming</td>\\n      <td>578759</td>\\n      <td>62259</td>\\n      <td>3360</td>\\n      <td>34</td>\\n      <td>1.011905</td>\\n      <td>97100</td>\\n      <td>5.960443</td>\\n      <td>43.075968</td>\\n      <td>-107.290284</td>\\n    </tr>\\n  </tbody>\\n</table>'"
      ]
     },
     "execution_count": 16,
     "metadata": {},
     "output_type": "execute_result"
    }
   ],
   "source": [
    "nifty.to_html()"
   ]
  },
  {
   "cell_type": "code",
   "execution_count": null,
   "metadata": {},
   "outputs": [],
   "source": []
  }
 ],
 "metadata": {
  "kernelspec": {
   "display_name": "Python 3",
   "language": "python",
   "name": "python3"
  },
  "language_info": {
   "codemirror_mode": {
    "name": "ipython",
    "version": 3
   },
   "file_extension": ".py",
   "mimetype": "text/x-python",
   "name": "python",
   "nbconvert_exporter": "python",
   "pygments_lexer": "ipython3",
   "version": "3.7.6"
  }
 },
 "nbformat": 4,
 "nbformat_minor": 4
}
